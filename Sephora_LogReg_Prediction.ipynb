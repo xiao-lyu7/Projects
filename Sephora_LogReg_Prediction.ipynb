{
 "cells": [
  {
   "cell_type": "markdown",
   "metadata": {},
   "source": [
    "# 1. Import Libraries & Data"
   ]
  },
  {
   "cell_type": "code",
   "execution_count": 2,
   "metadata": {},
   "outputs": [],
   "source": [
    "import pandas as pd\n",
    "import numpy as np\n",
    "import matplotlib.pyplot as plt \n",
    "import statsmodels.api as sm\n",
    "from sklearn import metrics, preprocessing, svm\n",
    "from sklearn.neighbors import KNeighborsClassifier\n",
    "from sklearn.linear_model import LogisticRegression\n",
    "from sklearn.model_selection import train_test_split\n",
    "from sklearn.feature_selection import RFE\n",
    "from sklearn.svm import SVC\n",
    "from sklearn.model_selection import cross_val_score\n",
    "from sklearn.metrics import classification_report\n",
    "from sklearn.metrics import precision_score, recall_score, confusion_matrix\n",
    "from sklearn.metrics import f1_score, roc_auc_score, roc_curve, r2_score\n",
    "from sklearn.metrics import accuracy_score\n",
    "import seaborn as sns\n",
    "# sns.set(style=\"white\")\n",
    "# sns.set(style=\"whitegrid\", color_codes=True)\n",
    "import warnings\n",
    "import plotnine as p9\n",
    "from plotnine import *\n",
    "from imblearn.over_sampling import SMOTE\n",
    "# from imblearn.pipeline import make_pipeline\n",
    "from pylab import rcParams\n",
    "\n",
    "%matplotlib inline "
   ]
  },
  {
   "cell_type": "code",
   "execution_count": 3,
   "metadata": {},
   "outputs": [
    {
     "data": {
      "text/plain": [
       "Index(['brand_name', 'product_name', 'product_url', 'price', 'total_loves',\n",
       "       'total_reviews', 'overall_rating', 'product_ingredients', 'normal_skin',\n",
       "       'oily_skin', 'combo_skin', 'dry_skin', 'sensitive_skin',\n",
       "       'chemical_present', 'skin_tone', 'recommended'],\n",
       "      dtype='object')"
      ]
     },
     "execution_count": 3,
     "metadata": {},
     "output_type": "execute_result"
    }
   ],
   "source": [
    "df_origin = pd.read_csv('sephora_merge_fnum_filter_short1.csv',encoding = 'unicode_escape')\n",
    "df_origin.columns"
   ]
  },
  {
   "cell_type": "code",
   "execution_count": 4,
   "metadata": {},
   "outputs": [
    {
     "data": {
      "text/plain": [
       "(8408, 16)"
      ]
     },
     "execution_count": 4,
     "metadata": {},
     "output_type": "execute_result"
    }
   ],
   "source": [
    "df_origin.shape\n"
   ]
  },
  {
   "cell_type": "code",
   "execution_count": 5,
   "metadata": {},
   "outputs": [],
   "source": [
    "df_origin1 = df_origin[df_origin.chemical_present == 0]\n",
    "# df_origin1.shape"
   ]
  },
  {
   "cell_type": "code",
   "execution_count": 6,
   "metadata": {},
   "outputs": [
    {
     "data": {
      "image/png": "[encoded data removed]",
      "text/plain": [
       "<Figure size 432x288 with 1 Axes>"
      ]
     },
     "metadata": {
      "needs_background": "light"
     },
     "output_type": "display_data"
    },
    {
     "data": {
      "text/plain": [
       "<Figure size 432x288 with 0 Axes>"
      ]
     },
     "metadata": {},
     "output_type": "display_data"
    }
   ],
   "source": [
    "sns.countplot(x='recommended', data = df_origin, palette = 'hls')\n",
    "plt.show()\n",
    "plt.savefig('count_plot')"
   ]
  },
  {
   "cell_type": "code",
   "execution_count": 7,
   "metadata": {},
   "outputs": [
    {
     "name": "stdout",
     "output_type": "stream",
     "text": [
      "3135\n",
      "5273\n"
     ]
    }
   ],
   "source": [
    "\n",
    "print(df_origin['recommended'].value_counts()[1])\n",
    "print(df_origin['recommended'].value_counts()[0])"
   ]
  },
  {
   "cell_type": "code",
   "execution_count": 8,
   "metadata": {},
   "outputs": [
    {
     "data": {
      "image/png": "[encoded data removed]",
      "text/plain": [
       "<Figure size 432x288 with 1 Axes>"
      ]
     },
     "metadata": {
      "needs_background": "light"
     },
     "output_type": "display_data"
    },
    {
     "data": {
      "text/plain": [
       "<Figure size 432x288 with 0 Axes>"
      ]
     },
     "metadata": {},
     "output_type": "display_data"
    }
   ],
   "source": [
    "pd.crosstab(df_origin['skin_tone'], df_origin['recommended']).plot(kind='bar', stacked=True)\n",
    "plt.title('Frequency', fontweight='bold')\n",
    "plt.xlabel('skin_tone',fontweight='bold')\n",
    "plt.ylabel('frequency recommendation',fontweight='bold')\n",
    "plt.show()\n",
    "plt.savefig('recommend frequency')\n"
   ]
  },
  {
   "cell_type": "code",
   "execution_count": 9,
   "metadata": {},
   "outputs": [
    {
     "data": {
      "text/plain": [
       "298"
      ]
     },
     "execution_count": 9,
     "metadata": {},
     "output_type": "execute_result"
    }
   ],
   "source": [
    "len(df_origin['product_name'].unique())\n",
    "\n",
    "# df['recommended'].value_counts()"
   ]
  },
  {
   "cell_type": "markdown",
   "metadata": {},
   "source": [
    "## 1.1 Get a Subset of Data for Analysis"
   ]
  },
  {
   "cell_type": "code",
   "execution_count": 43,
   "metadata": {},
   "outputs": [
    {
     "data": {
      "text/html": [
       "<div>\n",
       "<style scoped>\n",
       "    .dataframe tbody tr th:only-of-type {\n",
       "        vertical-align: middle;\n",
       "    }\n",
       "\n",
       "    .dataframe tbody tr th {\n",
       "        vertical-align: top;\n",
       "    }\n",
       "\n",
       "    .dataframe thead th {\n",
       "        text-align: right;\n",
       "    }\n",
       "</style>\n",
       "<table border=\"1\" class=\"dataframe\">\n",
       "  <thead>\n",
       "    <tr style=\"text-align: right;\">\n",
       "      <th></th>\n",
       "      <th>price</th>\n",
       "      <th>total_reviews</th>\n",
       "      <th>overall_rating</th>\n",
       "      <th>oily_skin</th>\n",
       "      <th>dry_skin</th>\n",
       "      <th>sensitive_skin</th>\n",
       "      <th>skin_tone</th>\n",
       "      <th>recommended</th>\n",
       "    </tr>\n",
       "  </thead>\n",
       "  <tbody>\n",
       "    <tr>\n",
       "      <td>0</td>\n",
       "      <td>68</td>\n",
       "      <td>2847</td>\n",
       "      <td>4.1</td>\n",
       "      <td>1</td>\n",
       "      <td>1</td>\n",
       "      <td>0</td>\n",
       "      <td>Medium</td>\n",
       "      <td>1</td>\n",
       "    </tr>\n",
       "    <tr>\n",
       "      <td>1</td>\n",
       "      <td>68</td>\n",
       "      <td>2847</td>\n",
       "      <td>4.1</td>\n",
       "      <td>1</td>\n",
       "      <td>1</td>\n",
       "      <td>0</td>\n",
       "      <td>Light</td>\n",
       "      <td>1</td>\n",
       "    </tr>\n",
       "    <tr>\n",
       "      <td>2</td>\n",
       "      <td>68</td>\n",
       "      <td>2847</td>\n",
       "      <td>4.1</td>\n",
       "      <td>1</td>\n",
       "      <td>1</td>\n",
       "      <td>0</td>\n",
       "      <td>Light</td>\n",
       "      <td>1</td>\n",
       "    </tr>\n",
       "    <tr>\n",
       "      <td>3</td>\n",
       "      <td>68</td>\n",
       "      <td>2847</td>\n",
       "      <td>4.1</td>\n",
       "      <td>1</td>\n",
       "      <td>1</td>\n",
       "      <td>0</td>\n",
       "      <td>Light</td>\n",
       "      <td>1</td>\n",
       "    </tr>\n",
       "    <tr>\n",
       "      <td>4</td>\n",
       "      <td>68</td>\n",
       "      <td>2847</td>\n",
       "      <td>4.1</td>\n",
       "      <td>1</td>\n",
       "      <td>1</td>\n",
       "      <td>0</td>\n",
       "      <td>Medium</td>\n",
       "      <td>1</td>\n",
       "    </tr>\n",
       "  </tbody>\n",
       "</table>\n",
       "</div>"
      ],
      "text/plain": [
       "   price  total_reviews  overall_rating  oily_skin  dry_skin  sensitive_skin  \\\n",
       "0     68           2847             4.1          1         1               0   \n",
       "1     68           2847             4.1          1         1               0   \n",
       "2     68           2847             4.1          1         1               0   \n",
       "3     68           2847             4.1          1         1               0   \n",
       "4     68           2847             4.1          1         1               0   \n",
       "\n",
       "  skin_tone  recommended  \n",
       "0    Medium            1  \n",
       "1     Light            1  \n",
       "2     Light            1  \n",
       "3     Light            1  \n",
       "4    Medium            1  "
      ]
     },
     "execution_count": 43,
     "metadata": {},
     "output_type": "execute_result"
    }
   ],
   "source": [
    "# removed 'normal_skin','combo_skin': highly correlated with otehr variables\n",
    "df = df_origin[['price','total_reviews', 'overall_rating',\n",
    "       'oily_skin', 'dry_skin', 'sensitive_skin', \n",
    "                'skin_tone', 'recommended']]\n",
    "\n",
    "df.head()"
   ]
  },
  {
   "cell_type": "code",
   "execution_count": 44,
   "metadata": {},
   "outputs": [
    {
     "data": {
      "text/plain": [
       "0    5273\n",
       "1    3135\n",
       "Name: recommended, dtype: int64"
      ]
     },
     "execution_count": 44,
     "metadata": {},
     "output_type": "execute_result"
    }
   ],
   "source": [
    "df['recommended'].value_counts()"
   ]
  },
  {
   "cell_type": "markdown",
   "metadata": {},
   "source": [
    "## 1.2 Preparing Data"
   ]
  },
  {
   "cell_type": "code",
   "execution_count": 45,
   "metadata": {},
   "outputs": [
    {
     "data": {
      "text/html": [
       "<div>\n",
       "<style scoped>\n",
       "    .dataframe tbody tr th:only-of-type {\n",
       "        vertical-align: middle;\n",
       "    }\n",
       "\n",
       "    .dataframe tbody tr th {\n",
       "        vertical-align: top;\n",
       "    }\n",
       "\n",
       "    .dataframe thead th {\n",
       "        text-align: right;\n",
       "    }\n",
       "</style>\n",
       "<table border=\"1\" class=\"dataframe\">\n",
       "  <thead>\n",
       "    <tr style=\"text-align: right;\">\n",
       "      <th></th>\n",
       "      <th>price</th>\n",
       "      <th>total_reviews</th>\n",
       "      <th>overall_rating</th>\n",
       "      <th>oily_skin</th>\n",
       "      <th>dry_skin</th>\n",
       "      <th>sensitive_skin</th>\n",
       "      <th>recommended</th>\n",
       "      <th>skin_tone_ Deep</th>\n",
       "      <th>skin_tone_ Ebony</th>\n",
       "      <th>skin_tone_ Fair</th>\n",
       "      <th>skin_tone_ Light</th>\n",
       "      <th>skin_tone_ Medium</th>\n",
       "      <th>skin_tone_ Olive</th>\n",
       "      <th>skin_tone_ Porcelain</th>\n",
       "      <th>skin_tone_ Tan</th>\n",
       "    </tr>\n",
       "  </thead>\n",
       "  <tbody>\n",
       "    <tr>\n",
       "      <td>0</td>\n",
       "      <td>68</td>\n",
       "      <td>2847</td>\n",
       "      <td>4.1</td>\n",
       "      <td>1</td>\n",
       "      <td>1</td>\n",
       "      <td>0</td>\n",
       "      <td>1</td>\n",
       "      <td>0</td>\n",
       "      <td>0</td>\n",
       "      <td>0</td>\n",
       "      <td>0</td>\n",
       "      <td>1</td>\n",
       "      <td>0</td>\n",
       "      <td>0</td>\n",
       "      <td>0</td>\n",
       "    </tr>\n",
       "    <tr>\n",
       "      <td>1</td>\n",
       "      <td>68</td>\n",
       "      <td>2847</td>\n",
       "      <td>4.1</td>\n",
       "      <td>1</td>\n",
       "      <td>1</td>\n",
       "      <td>0</td>\n",
       "      <td>1</td>\n",
       "      <td>0</td>\n",
       "      <td>0</td>\n",
       "      <td>0</td>\n",
       "      <td>1</td>\n",
       "      <td>0</td>\n",
       "      <td>0</td>\n",
       "      <td>0</td>\n",
       "      <td>0</td>\n",
       "    </tr>\n",
       "  </tbody>\n",
       "</table>\n",
       "</div>"
      ],
      "text/plain": [
       "   price  total_reviews  overall_rating  oily_skin  dry_skin  sensitive_skin  \\\n",
       "0     68           2847             4.1          1         1               0   \n",
       "1     68           2847             4.1          1         1               0   \n",
       "\n",
       "   recommended  skin_tone_ Deep  skin_tone_ Ebony  skin_tone_ Fair  \\\n",
       "0            1                0                 0                0   \n",
       "1            1                0                 0                0   \n",
       "\n",
       "   skin_tone_ Light  skin_tone_ Medium  skin_tone_ Olive  \\\n",
       "0                 0                  1                 0   \n",
       "1                 1                  0                 0   \n",
       "\n",
       "   skin_tone_ Porcelain  skin_tone_ Tan  \n",
       "0                     0               0  \n",
       "1                     0               0  "
      ]
     },
     "execution_count": 45,
     "metadata": {},
     "output_type": "execute_result"
    }
   ],
   "source": [
    "# Code dummy variables in the data \n",
    "\n",
    "df = pd.get_dummies(df, columns=['skin_tone'],\n",
    "                    prefix=['skin_tone'],drop_first = True)\n",
    "df.head(2)"
   ]
  },
  {
   "cell_type": "code",
   "execution_count": 46,
   "metadata": {},
   "outputs": [
    {
     "data": {
      "text/plain": [
       "(8408, 15)"
      ]
     },
     "execution_count": 46,
     "metadata": {},
     "output_type": "execute_result"
    }
   ],
   "source": [
    "df.shape"
   ]
  },
  {
   "cell_type": "markdown",
   "metadata": {},
   "source": [
    "# 1.3 Inspect correlation - check whether there are strong corerlations between input features"
   ]
  },
  {
   "cell_type": "code",
   "execution_count": 47,
   "metadata": {},
   "outputs": [
    {
     "data": {
      "text/html": [
       "<div>\n",
       "<style scoped>\n",
       "    .dataframe tbody tr th:only-of-type {\n",
       "        vertical-align: middle;\n",
       "    }\n",
       "\n",
       "    .dataframe tbody tr th {\n",
       "        vertical-align: top;\n",
       "    }\n",
       "\n",
       "    .dataframe thead th {\n",
       "        text-align: right;\n",
       "    }\n",
       "</style>\n",
       "<table border=\"1\" class=\"dataframe\">\n",
       "  <thead>\n",
       "    <tr style=\"text-align: right;\">\n",
       "      <th></th>\n",
       "      <th>price</th>\n",
       "      <th>total_reviews</th>\n",
       "      <th>overall_rating</th>\n",
       "      <th>oily_skin</th>\n",
       "      <th>dry_skin</th>\n",
       "      <th>sensitive_skin</th>\n",
       "      <th>recommended</th>\n",
       "      <th>skin_tone_ Deep</th>\n",
       "      <th>skin_tone_ Ebony</th>\n",
       "      <th>skin_tone_ Fair</th>\n",
       "      <th>skin_tone_ Light</th>\n",
       "      <th>skin_tone_ Medium</th>\n",
       "      <th>skin_tone_ Olive</th>\n",
       "      <th>skin_tone_ Porcelain</th>\n",
       "      <th>skin_tone_ Tan</th>\n",
       "    </tr>\n",
       "  </thead>\n",
       "  <tbody>\n",
       "    <tr>\n",
       "      <td>price</td>\n",
       "      <td>1.00</td>\n",
       "      <td>-0.14</td>\n",
       "      <td>0.07</td>\n",
       "      <td>-0.14</td>\n",
       "      <td>-0.20</td>\n",
       "      <td>0.02</td>\n",
       "      <td>-0.15</td>\n",
       "      <td>-0.04</td>\n",
       "      <td>-0.02</td>\n",
       "      <td>-0.06</td>\n",
       "      <td>-0.05</td>\n",
       "      <td>-0.03</td>\n",
       "      <td>-0.03</td>\n",
       "      <td>-0.05</td>\n",
       "      <td>-0.03</td>\n",
       "    </tr>\n",
       "    <tr>\n",
       "      <td>total_reviews</td>\n",
       "      <td>-0.14</td>\n",
       "      <td>1.00</td>\n",
       "      <td>0.15</td>\n",
       "      <td>0.09</td>\n",
       "      <td>0.16</td>\n",
       "      <td>0.03</td>\n",
       "      <td>-0.12</td>\n",
       "      <td>0.00</td>\n",
       "      <td>-0.00</td>\n",
       "      <td>-0.05</td>\n",
       "      <td>-0.03</td>\n",
       "      <td>-0.04</td>\n",
       "      <td>-0.03</td>\n",
       "      <td>-0.03</td>\n",
       "      <td>-0.03</td>\n",
       "    </tr>\n",
       "    <tr>\n",
       "      <td>overall_rating</td>\n",
       "      <td>0.07</td>\n",
       "      <td>0.15</td>\n",
       "      <td>1.00</td>\n",
       "      <td>-0.11</td>\n",
       "      <td>0.02</td>\n",
       "      <td>-0.07</td>\n",
       "      <td>0.18</td>\n",
       "      <td>0.01</td>\n",
       "      <td>0.01</td>\n",
       "      <td>0.01</td>\n",
       "      <td>0.03</td>\n",
       "      <td>0.04</td>\n",
       "      <td>0.02</td>\n",
       "      <td>0.03</td>\n",
       "      <td>0.03</td>\n",
       "    </tr>\n",
       "    <tr>\n",
       "      <td>oily_skin</td>\n",
       "      <td>-0.14</td>\n",
       "      <td>0.09</td>\n",
       "      <td>-0.11</td>\n",
       "      <td>1.00</td>\n",
       "      <td>0.43</td>\n",
       "      <td>0.23</td>\n",
       "      <td>0.16</td>\n",
       "      <td>0.04</td>\n",
       "      <td>-0.01</td>\n",
       "      <td>0.05</td>\n",
       "      <td>0.07</td>\n",
       "      <td>0.04</td>\n",
       "      <td>0.03</td>\n",
       "      <td>0.04</td>\n",
       "      <td>0.05</td>\n",
       "    </tr>\n",
       "    <tr>\n",
       "      <td>dry_skin</td>\n",
       "      <td>-0.20</td>\n",
       "      <td>0.16</td>\n",
       "      <td>0.02</td>\n",
       "      <td>0.43</td>\n",
       "      <td>1.00</td>\n",
       "      <td>0.38</td>\n",
       "      <td>0.25</td>\n",
       "      <td>0.04</td>\n",
       "      <td>0.02</td>\n",
       "      <td>0.08</td>\n",
       "      <td>0.09</td>\n",
       "      <td>0.08</td>\n",
       "      <td>0.04</td>\n",
       "      <td>0.07</td>\n",
       "      <td>0.06</td>\n",
       "    </tr>\n",
       "    <tr>\n",
       "      <td>sensitive_skin</td>\n",
       "      <td>0.02</td>\n",
       "      <td>0.03</td>\n",
       "      <td>-0.07</td>\n",
       "      <td>0.23</td>\n",
       "      <td>0.38</td>\n",
       "      <td>1.00</td>\n",
       "      <td>-0.05</td>\n",
       "      <td>-0.01</td>\n",
       "      <td>0.01</td>\n",
       "      <td>-0.04</td>\n",
       "      <td>-0.04</td>\n",
       "      <td>-0.01</td>\n",
       "      <td>-0.01</td>\n",
       "      <td>-0.00</td>\n",
       "      <td>-0.01</td>\n",
       "    </tr>\n",
       "    <tr>\n",
       "      <td>recommended</td>\n",
       "      <td>-0.15</td>\n",
       "      <td>-0.12</td>\n",
       "      <td>0.18</td>\n",
       "      <td>0.16</td>\n",
       "      <td>0.25</td>\n",
       "      <td>-0.05</td>\n",
       "      <td>1.00</td>\n",
       "      <td>0.10</td>\n",
       "      <td>0.06</td>\n",
       "      <td>0.25</td>\n",
       "      <td>0.25</td>\n",
       "      <td>0.23</td>\n",
       "      <td>0.14</td>\n",
       "      <td>0.18</td>\n",
       "      <td>0.16</td>\n",
       "    </tr>\n",
       "    <tr>\n",
       "      <td>skin_tone_ Deep</td>\n",
       "      <td>-0.04</td>\n",
       "      <td>0.00</td>\n",
       "      <td>0.01</td>\n",
       "      <td>0.04</td>\n",
       "      <td>0.04</td>\n",
       "      <td>-0.01</td>\n",
       "      <td>0.10</td>\n",
       "      <td>1.00</td>\n",
       "      <td>-0.01</td>\n",
       "      <td>-0.05</td>\n",
       "      <td>-0.05</td>\n",
       "      <td>-0.04</td>\n",
       "      <td>-0.03</td>\n",
       "      <td>-0.03</td>\n",
       "      <td>-0.02</td>\n",
       "    </tr>\n",
       "    <tr>\n",
       "      <td>skin_tone_ Ebony</td>\n",
       "      <td>-0.02</td>\n",
       "      <td>-0.00</td>\n",
       "      <td>0.01</td>\n",
       "      <td>-0.01</td>\n",
       "      <td>0.02</td>\n",
       "      <td>0.01</td>\n",
       "      <td>0.06</td>\n",
       "      <td>-0.01</td>\n",
       "      <td>1.00</td>\n",
       "      <td>-0.02</td>\n",
       "      <td>-0.03</td>\n",
       "      <td>-0.02</td>\n",
       "      <td>-0.01</td>\n",
       "      <td>-0.01</td>\n",
       "      <td>-0.01</td>\n",
       "    </tr>\n",
       "    <tr>\n",
       "      <td>skin_tone_ Fair</td>\n",
       "      <td>-0.06</td>\n",
       "      <td>-0.05</td>\n",
       "      <td>0.01</td>\n",
       "      <td>0.05</td>\n",
       "      <td>0.08</td>\n",
       "      <td>-0.04</td>\n",
       "      <td>0.25</td>\n",
       "      <td>-0.05</td>\n",
       "      <td>-0.02</td>\n",
       "      <td>1.00</td>\n",
       "      <td>-0.16</td>\n",
       "      <td>-0.13</td>\n",
       "      <td>-0.07</td>\n",
       "      <td>-0.08</td>\n",
       "      <td>-0.07</td>\n",
       "    </tr>\n",
       "    <tr>\n",
       "      <td>skin_tone_ Light</td>\n",
       "      <td>-0.05</td>\n",
       "      <td>-0.03</td>\n",
       "      <td>0.03</td>\n",
       "      <td>0.07</td>\n",
       "      <td>0.09</td>\n",
       "      <td>-0.04</td>\n",
       "      <td>0.25</td>\n",
       "      <td>-0.05</td>\n",
       "      <td>-0.03</td>\n",
       "      <td>-0.16</td>\n",
       "      <td>1.00</td>\n",
       "      <td>-0.15</td>\n",
       "      <td>-0.09</td>\n",
       "      <td>-0.09</td>\n",
       "      <td>-0.08</td>\n",
       "    </tr>\n",
       "    <tr>\n",
       "      <td>skin_tone_ Medium</td>\n",
       "      <td>-0.03</td>\n",
       "      <td>-0.04</td>\n",
       "      <td>0.04</td>\n",
       "      <td>0.04</td>\n",
       "      <td>0.08</td>\n",
       "      <td>-0.01</td>\n",
       "      <td>0.23</td>\n",
       "      <td>-0.04</td>\n",
       "      <td>-0.02</td>\n",
       "      <td>-0.13</td>\n",
       "      <td>-0.15</td>\n",
       "      <td>1.00</td>\n",
       "      <td>-0.07</td>\n",
       "      <td>-0.07</td>\n",
       "      <td>-0.06</td>\n",
       "    </tr>\n",
       "    <tr>\n",
       "      <td>skin_tone_ Olive</td>\n",
       "      <td>-0.03</td>\n",
       "      <td>-0.03</td>\n",
       "      <td>0.02</td>\n",
       "      <td>0.03</td>\n",
       "      <td>0.04</td>\n",
       "      <td>-0.01</td>\n",
       "      <td>0.14</td>\n",
       "      <td>-0.03</td>\n",
       "      <td>-0.01</td>\n",
       "      <td>-0.07</td>\n",
       "      <td>-0.09</td>\n",
       "      <td>-0.07</td>\n",
       "      <td>1.00</td>\n",
       "      <td>-0.04</td>\n",
       "      <td>-0.04</td>\n",
       "    </tr>\n",
       "    <tr>\n",
       "      <td>skin_tone_ Porcelain</td>\n",
       "      <td>-0.05</td>\n",
       "      <td>-0.03</td>\n",
       "      <td>0.03</td>\n",
       "      <td>0.04</td>\n",
       "      <td>0.07</td>\n",
       "      <td>-0.00</td>\n",
       "      <td>0.18</td>\n",
       "      <td>-0.03</td>\n",
       "      <td>-0.01</td>\n",
       "      <td>-0.08</td>\n",
       "      <td>-0.09</td>\n",
       "      <td>-0.07</td>\n",
       "      <td>-0.04</td>\n",
       "      <td>1.00</td>\n",
       "      <td>-0.04</td>\n",
       "    </tr>\n",
       "    <tr>\n",
       "      <td>skin_tone_ Tan</td>\n",
       "      <td>-0.03</td>\n",
       "      <td>-0.03</td>\n",
       "      <td>0.03</td>\n",
       "      <td>0.05</td>\n",
       "      <td>0.06</td>\n",
       "      <td>-0.01</td>\n",
       "      <td>0.16</td>\n",
       "      <td>-0.02</td>\n",
       "      <td>-0.01</td>\n",
       "      <td>-0.07</td>\n",
       "      <td>-0.08</td>\n",
       "      <td>-0.06</td>\n",
       "      <td>-0.04</td>\n",
       "      <td>-0.04</td>\n",
       "      <td>1.00</td>\n",
       "    </tr>\n",
       "  </tbody>\n",
       "</table>\n",
       "</div>"
      ],
      "text/plain": [
       "                      price  total_reviews  overall_rating  oily_skin  \\\n",
       "price                  1.00          -0.14            0.07      -0.14   \n",
       "total_reviews         -0.14           1.00            0.15       0.09   \n",
       "overall_rating         0.07           0.15            1.00      -0.11   \n",
       "oily_skin             -0.14           0.09           -0.11       1.00   \n",
       "dry_skin              -0.20           0.16            0.02       0.43   \n",
       "sensitive_skin         0.02           0.03           -0.07       0.23   \n",
       "recommended           -0.15          -0.12            0.18       0.16   \n",
       "skin_tone_ Deep       -0.04           0.00            0.01       0.04   \n",
       "skin_tone_ Ebony      -0.02          -0.00            0.01      -0.01   \n",
       "skin_tone_ Fair       -0.06          -0.05            0.01       0.05   \n",
       "skin_tone_ Light      -0.05          -0.03            0.03       0.07   \n",
       "skin_tone_ Medium     -0.03          -0.04            0.04       0.04   \n",
       "skin_tone_ Olive      -0.03          -0.03            0.02       0.03   \n",
       "skin_tone_ Porcelain  -0.05          -0.03            0.03       0.04   \n",
       "skin_tone_ Tan        -0.03          -0.03            0.03       0.05   \n",
       "\n",
       "                      dry_skin  sensitive_skin  recommended  skin_tone_ Deep  \\\n",
       "price                    -0.20            0.02        -0.15            -0.04   \n",
       "total_reviews             0.16            0.03        -0.12             0.00   \n",
       "overall_rating            0.02           -0.07         0.18             0.01   \n",
       "oily_skin                 0.43            0.23         0.16             0.04   \n",
       "dry_skin                  1.00            0.38         0.25             0.04   \n",
       "sensitive_skin            0.38            1.00        -0.05            -0.01   \n",
       "recommended               0.25           -0.05         1.00             0.10   \n",
       "skin_tone_ Deep           0.04           -0.01         0.10             1.00   \n",
       "skin_tone_ Ebony          0.02            0.01         0.06            -0.01   \n",
       "skin_tone_ Fair           0.08           -0.04         0.25            -0.05   \n",
       "skin_tone_ Light          0.09           -0.04         0.25            -0.05   \n",
       "skin_tone_ Medium         0.08           -0.01         0.23            -0.04   \n",
       "skin_tone_ Olive          0.04           -0.01         0.14            -0.03   \n",
       "skin_tone_ Porcelain      0.07           -0.00         0.18            -0.03   \n",
       "skin_tone_ Tan            0.06           -0.01         0.16            -0.02   \n",
       "\n",
       "                      skin_tone_ Ebony  skin_tone_ Fair  skin_tone_ Light  \\\n",
       "price                            -0.02            -0.06             -0.05   \n",
       "total_reviews                    -0.00            -0.05             -0.03   \n",
       "overall_rating                    0.01             0.01              0.03   \n",
       "oily_skin                        -0.01             0.05              0.07   \n",
       "dry_skin                          0.02             0.08              0.09   \n",
       "sensitive_skin                    0.01            -0.04             -0.04   \n",
       "recommended                       0.06             0.25              0.25   \n",
       "skin_tone_ Deep                  -0.01            -0.05             -0.05   \n",
       "skin_tone_ Ebony                  1.00            -0.02             -0.03   \n",
       "skin_tone_ Fair                  -0.02             1.00             -0.16   \n",
       "skin_tone_ Light                 -0.03            -0.16              1.00   \n",
       "skin_tone_ Medium                -0.02            -0.13             -0.15   \n",
       "skin_tone_ Olive                 -0.01            -0.07             -0.09   \n",
       "skin_tone_ Porcelain             -0.01            -0.08             -0.09   \n",
       "skin_tone_ Tan                   -0.01            -0.07             -0.08   \n",
       "\n",
       "                      skin_tone_ Medium  skin_tone_ Olive  \\\n",
       "price                             -0.03             -0.03   \n",
       "total_reviews                     -0.04             -0.03   \n",
       "overall_rating                     0.04              0.02   \n",
       "oily_skin                          0.04              0.03   \n",
       "dry_skin                           0.08              0.04   \n",
       "sensitive_skin                    -0.01             -0.01   \n",
       "recommended                        0.23              0.14   \n",
       "skin_tone_ Deep                   -0.04             -0.03   \n",
       "skin_tone_ Ebony                  -0.02             -0.01   \n",
       "skin_tone_ Fair                   -0.13             -0.07   \n",
       "skin_tone_ Light                  -0.15             -0.09   \n",
       "skin_tone_ Medium                  1.00             -0.07   \n",
       "skin_tone_ Olive                  -0.07              1.00   \n",
       "skin_tone_ Porcelain              -0.07             -0.04   \n",
       "skin_tone_ Tan                    -0.06             -0.04   \n",
       "\n",
       "                      skin_tone_ Porcelain  skin_tone_ Tan  \n",
       "price                                -0.05           -0.03  \n",
       "total_reviews                        -0.03           -0.03  \n",
       "overall_rating                        0.03            0.03  \n",
       "oily_skin                             0.04            0.05  \n",
       "dry_skin                              0.07            0.06  \n",
       "sensitive_skin                       -0.00           -0.01  \n",
       "recommended                           0.18            0.16  \n",
       "skin_tone_ Deep                      -0.03           -0.02  \n",
       "skin_tone_ Ebony                     -0.01           -0.01  \n",
       "skin_tone_ Fair                      -0.08           -0.07  \n",
       "skin_tone_ Light                     -0.09           -0.08  \n",
       "skin_tone_ Medium                    -0.07           -0.06  \n",
       "skin_tone_ Olive                     -0.04           -0.04  \n",
       "skin_tone_ Porcelain                  1.00           -0.04  \n",
       "skin_tone_ Tan                       -0.04            1.00  "
      ]
     },
     "metadata": {},
     "output_type": "display_data"
    },
    {
     "data": {
      "text/plain": [
       "<matplotlib.axes._subplots.AxesSubplot at 0x1c15573e50>"
      ]
     },
     "execution_count": 47,
     "metadata": {},
     "output_type": "execute_result"
    },
    {
     "data": {
      "image/png": "[encoded data removed]",
      "text/plain": [
       "<Figure size 432x288 with 2 Axes>"
      ]
     },
     "metadata": {},
     "output_type": "display_data"
    }
   ],
   "source": [
    "## see correlation results\n",
    "\n",
    "corr = df.corr().round(2)\n",
    "display(corr)\n",
    "\n",
    "sns.set(font_scale=1.3)\n",
    "sns.heatmap(corr, xticklabels = corr.columns, yticklabels = corr.columns, cmap = 'RdBu')"
   ]
  },
  {
   "cell_type": "markdown",
   "metadata": {},
   "source": [
    "# 2. Machine Learning Model - Logistic Regression "
   ]
  },
  {
   "cell_type": "markdown",
   "metadata": {},
   "source": [
    "# Stepwise Logistic Regression "
   ]
  },
  {
   "cell_type": "code",
   "execution_count": 48,
   "metadata": {},
   "outputs": [],
   "source": [
    "# split the data\n",
    "X = df.loc[:, df.columns != 'recommended']\n",
    "y = df.loc[:, df.columns == 'recommended']\n",
    "\n",
    "# normalize data\n",
    "scaler = preprocessing.StandardScaler()\n",
    "Xs = scaler.fit_transform(X)\n",
    "Xs = pd.DataFrame(Xs, columns = X.columns).round(2)\n",
    "\n",
    "X_train, X_test, y_train, y_test = train_test_split(Xs, y, test_size=0.2, random_state=0)"
   ]
  },
  {
   "cell_type": "markdown",
   "metadata": {},
   "source": [
    "## 2.1 Feature Elimination "
   ]
  },
  {
   "cell_type": "code",
   "execution_count": 49,
   "metadata": {},
   "outputs": [
    {
     "name": "stdout",
     "output_type": "stream",
     "text": [
      "Warning: Maximum number of iterations has been exceeded.\n",
      "         Current function value: 0.408058\n",
      "         Iterations: 35\n",
      "         Function evaluations: 36\n",
      "         Gradient evaluations: 36\n",
      "                           Logit Regression Results                           \n",
      "==============================================================================\n",
      "Dep. Variable:            recommended   No. Observations:                 6726\n",
      "Model:                          Logit   Df Residuals:                     6712\n",
      "Method:                           MLE   Df Model:                           13\n",
      "Date:                Sun, 20 Oct 2019   Pseudo R-squ.:                  0.3813\n",
      "Time:                        19:11:25   Log-Likelihood:                -2744.6\n",
      "converged:                      False   LL-Null:                       -4436.0\n",
      "Covariance Type:            nonrobust   LLR p-value:                     0.000\n",
      "========================================================================================\n",
      "                           coef    std err          z      P>|z|      [0.025      0.975]\n",
      "----------------------------------------------------------------------------------------\n",
      "price                   -0.2029      0.042     -4.886      0.000      -0.284      -0.122\n",
      "total_reviews           -0.3345      0.039     -8.652      0.000      -0.410      -0.259\n",
      "overall_rating           0.5127      0.037     13.857      0.000       0.440       0.585\n",
      "oily_skin                0.1592      0.038      4.147      0.000       0.084       0.234\n",
      "dry_skin                 0.3524      0.042      8.348      0.000       0.270       0.435\n",
      "sensitive_skin          -0.1498      0.037     -4.023      0.000      -0.223      -0.077\n",
      "skin_tone_ Deep          0.4764      0.041     11.480      0.000       0.395       0.558\n",
      "skin_tone_ Ebony         0.4022      0.178      2.263      0.024       0.054       0.751\n",
      "skin_tone_ Fair          1.0062      0.035     28.598      0.000       0.937       1.075\n",
      "skin_tone_ Light         1.0092      0.034     29.952      0.000       0.943       1.075\n",
      "skin_tone_ Medium        0.9710      0.036     26.888      0.000       0.900       1.042\n",
      "skin_tone_ Olive         0.6291      0.036     17.341      0.000       0.558       0.700\n",
      "skin_tone_ Porcelain     0.7653      0.046     16.539      0.000       0.675       0.856\n",
      "skin_tone_ Tan           0.6759      0.048     14.165      0.000       0.582       0.769\n",
      "========================================================================================\n"
     ]
    },
    {
     "name": "stderr",
     "output_type": "stream",
     "text": [
      "/anaconda3/envs/insight/lib/python3.7/site-packages/statsmodels/base/model.py:512: ConvergenceWarning: Maximum Likelihood optimization failed to converge. Check mle_retvals\n",
      "  \"Check mle_retvals\", ConvergenceWarning)\n"
     ]
    }
   ],
   "source": [
    "# fit the model - backward elimination \n",
    "logit_model=sm.Logit(y_train,X_train)\n",
    "result=logit_model.fit(method='bfgs')\n",
    "print(result.summary())"
   ]
  },
  {
   "cell_type": "code",
   "execution_count": 50,
   "metadata": {},
   "outputs": [
    {
     "data": {
      "text/plain": [
       "price                   0.816363\n",
       "total_reviews           0.715708\n",
       "overall_rating          1.669793\n",
       "oily_skin               1.172612\n",
       "dry_skin                1.422445\n",
       "sensitive_skin          0.860840\n",
       "skin_tone_ Deep         1.610236\n",
       "skin_tone_ Ebony        1.495121\n",
       "skin_tone_ Fair         2.735221\n",
       "skin_tone_ Light        2.743289\n",
       "skin_tone_ Medium       2.640563\n",
       "skin_tone_ Olive        1.876014\n",
       "skin_tone_ Porcelain    2.149642\n",
       "skin_tone_ Tan          1.965777\n",
       "dtype: float64"
      ]
     },
     "execution_count": 50,
     "metadata": {},
     "output_type": "execute_result"
    }
   ],
   "source": [
    "# check feature importance \n",
    "coefs = np.exp(result.params) # turn the estimated coefficients in log-odds format into regular odds.\n",
    "coefs"
   ]
  },
  {
   "cell_type": "raw",
   "metadata": {},
   "source": [
    "- The odds for features that are > 1: meaning they are positively associated with the labeled varibale(Y). \n",
    "- For instance, overall_rating (coef = 1.64) could be interpreted as: For a 1 unit increase in overall_rating, we expect the odds of a customer recommending a product to increase by 64%, holding everything else constant."
   ]
  },
  {
   "cell_type": "code",
   "execution_count": 51,
   "metadata": {},
   "outputs": [
    {
     "name": "stdout",
     "output_type": "stream",
     "text": [
      "                         coefs              features\n",
      "price                 0.816363                 price\n",
      "total_reviews         0.715708         total_reviews\n",
      "overall_rating        1.669793        overall_rating\n",
      "oily_skin             1.172612             oily_skin\n",
      "dry_skin              1.422445              dry_skin\n",
      "sensitive_skin        0.860840        sensitive_skin\n",
      "skin_tone_ Deep       1.610236       skin_tone_ Deep\n",
      "skin_tone_ Ebony      1.495121      skin_tone_ Ebony\n",
      "skin_tone_ Fair       2.735221       skin_tone_ Fair\n",
      "skin_tone_ Light      2.743289      skin_tone_ Light\n",
      "skin_tone_ Medium     2.640563     skin_tone_ Medium\n",
      "skin_tone_ Olive      1.876014      skin_tone_ Olive\n",
      "skin_tone_ Porcelain  2.149642  skin_tone_ Porcelain\n",
      "skin_tone_ Tan        1.965777        skin_tone_ Tan\n"
     ]
    }
   ],
   "source": [
    "df_coefs = pd.DataFrame({ 'coefs': coefs, 'features': X.columns,})\n",
    "print(df_coefs)"
   ]
  },
  {
   "cell_type": "code",
   "execution_count": 52,
   "metadata": {
    "scrolled": true
   },
   "outputs": [
    {
     "data": {
      "text/html": [
       "<div>\n",
       "<style scoped>\n",
       "    .dataframe tbody tr th:only-of-type {\n",
       "        vertical-align: middle;\n",
       "    }\n",
       "\n",
       "    .dataframe tbody tr th {\n",
       "        vertical-align: top;\n",
       "    }\n",
       "\n",
       "    .dataframe thead th {\n",
       "        text-align: right;\n",
       "    }\n",
       "</style>\n",
       "<table border=\"1\" class=\"dataframe\">\n",
       "  <thead>\n",
       "    <tr style=\"text-align: right;\">\n",
       "      <th></th>\n",
       "      <th>coefs</th>\n",
       "      <th>features</th>\n",
       "    </tr>\n",
       "  </thead>\n",
       "  <tbody>\n",
       "    <tr>\n",
       "      <td>skin_tone_ Light</td>\n",
       "      <td>2.743289</td>\n",
       "      <td>skin_tone_ Light</td>\n",
       "    </tr>\n",
       "    <tr>\n",
       "      <td>skin_tone_ Fair</td>\n",
       "      <td>2.735221</td>\n",
       "      <td>skin_tone_ Fair</td>\n",
       "    </tr>\n",
       "    <tr>\n",
       "      <td>skin_tone_ Medium</td>\n",
       "      <td>2.640563</td>\n",
       "      <td>skin_tone_ Medium</td>\n",
       "    </tr>\n",
       "    <tr>\n",
       "      <td>skin_tone_ Porcelain</td>\n",
       "      <td>2.149642</td>\n",
       "      <td>skin_tone_ Porcelain</td>\n",
       "    </tr>\n",
       "    <tr>\n",
       "      <td>skin_tone_ Tan</td>\n",
       "      <td>1.965777</td>\n",
       "      <td>skin_tone_ Tan</td>\n",
       "    </tr>\n",
       "    <tr>\n",
       "      <td>skin_tone_ Olive</td>\n",
       "      <td>1.876014</td>\n",
       "      <td>skin_tone_ Olive</td>\n",
       "    </tr>\n",
       "    <tr>\n",
       "      <td>overall_rating</td>\n",
       "      <td>1.669793</td>\n",
       "      <td>overall_rating</td>\n",
       "    </tr>\n",
       "    <tr>\n",
       "      <td>skin_tone_ Deep</td>\n",
       "      <td>1.610236</td>\n",
       "      <td>skin_tone_ Deep</td>\n",
       "    </tr>\n",
       "    <tr>\n",
       "      <td>skin_tone_ Ebony</td>\n",
       "      <td>1.495121</td>\n",
       "      <td>skin_tone_ Ebony</td>\n",
       "    </tr>\n",
       "    <tr>\n",
       "      <td>dry_skin</td>\n",
       "      <td>1.422445</td>\n",
       "      <td>dry_skin</td>\n",
       "    </tr>\n",
       "    <tr>\n",
       "      <td>oily_skin</td>\n",
       "      <td>1.172612</td>\n",
       "      <td>oily_skin</td>\n",
       "    </tr>\n",
       "    <tr>\n",
       "      <td>sensitive_skin</td>\n",
       "      <td>0.860840</td>\n",
       "      <td>sensitive_skin</td>\n",
       "    </tr>\n",
       "    <tr>\n",
       "      <td>price</td>\n",
       "      <td>0.816363</td>\n",
       "      <td>price</td>\n",
       "    </tr>\n",
       "    <tr>\n",
       "      <td>total_reviews</td>\n",
       "      <td>0.715708</td>\n",
       "      <td>total_reviews</td>\n",
       "    </tr>\n",
       "  </tbody>\n",
       "</table>\n",
       "</div>"
      ],
      "text/plain": [
       "                         coefs              features\n",
       "skin_tone_ Light      2.743289      skin_tone_ Light\n",
       "skin_tone_ Fair       2.735221       skin_tone_ Fair\n",
       "skin_tone_ Medium     2.640563     skin_tone_ Medium\n",
       "skin_tone_ Porcelain  2.149642  skin_tone_ Porcelain\n",
       "skin_tone_ Tan        1.965777        skin_tone_ Tan\n",
       "skin_tone_ Olive      1.876014      skin_tone_ Olive\n",
       "overall_rating        1.669793        overall_rating\n",
       "skin_tone_ Deep       1.610236       skin_tone_ Deep\n",
       "skin_tone_ Ebony      1.495121      skin_tone_ Ebony\n",
       "dry_skin              1.422445              dry_skin\n",
       "oily_skin             1.172612             oily_skin\n",
       "sensitive_skin        0.860840        sensitive_skin\n",
       "price                 0.816363                 price\n",
       "total_reviews         0.715708         total_reviews"
      ]
     },
     "execution_count": 52,
     "metadata": {},
     "output_type": "execute_result"
    }
   ],
   "source": [
    "df_coefs_sort = df_coefs.sort_values('coefs', ascending=False)\n",
    "df_coefs_sort"
   ]
  },
  {
   "cell_type": "code",
   "execution_count": 53,
   "metadata": {},
   "outputs": [],
   "source": [
    "objects = df_coefs_sort.index"
   ]
  },
  {
   "cell_type": "code",
   "execution_count": 54,
   "metadata": {},
   "outputs": [
    {
     "data": {
      "image/png": "[encoded data removed]",
      "text/plain": [
       "<Figure size 792x504 with 1 Axes>"
      ]
     },
     "metadata": {},
     "output_type": "display_data"
    }
   ],
   "source": [
    "y_pos = np.arange(len(objects))\n",
    "performance = df_coefs_sort['coefs'].values.round(2)\n",
    "# performance = df_coefs.sort_values('coefs', ascending=False).round(2)\n",
    "plt.figure(figsize=(11,7))\n",
    "plt.barh(y_pos, performance, align='center')\n",
    "plt.yticks(y_pos, objects)\n",
    "plt.xlabel('Odds', fontweight='bold')\n",
    "plt.ylabel('Features', fontweight='bold')\n",
    "plt.title('Feature Importance', fontweight='bold')\n",
    "\n",
    "for i, v in enumerate(performance):\n",
    "    plt.text(v, i, str(v), color='red', fontweight='bold')\n",
    "    \n",
    "plt.show()"
   ]
  },
  {
   "cell_type": "code",
   "execution_count": 55,
   "metadata": {},
   "outputs": [
    {
     "data": {
      "text/plain": [
       "Index(['price', 'total_reviews', 'overall_rating', 'oily_skin', 'dry_skin',\n",
       "       'sensitive_skin', 'recommended', 'skin_tone_ Deep', 'skin_tone_ Ebony',\n",
       "       'skin_tone_ Fair', 'skin_tone_ Light', 'skin_tone_ Medium',\n",
       "       'skin_tone_ Olive', 'skin_tone_ Porcelain', 'skin_tone_ Tan'],\n",
       "      dtype='object')"
      ]
     },
     "execution_count": 55,
     "metadata": {},
     "output_type": "execute_result"
    }
   ],
   "source": [
    "df.columns"
   ]
  },
  {
   "cell_type": "markdown",
   "metadata": {},
   "source": [
    "## 2.2 Implement the Model\n",
    "- fit the Logistic Regression Model with selected features"
   ]
  },
  {
   "cell_type": "code",
   "execution_count": 56,
   "metadata": {},
   "outputs": [
    {
     "name": "stdout",
     "output_type": "stream",
     "text": [
      "------------------------------------------------------------\n",
      "Accuracy of logistic regression classifier on train set: 0.8537\n",
      "------------------------------------------------------------\n",
      "Accuracy of logistic regression classifier on test set: 0.8395\n",
      "------------------------------------------------------------\n",
      "              precision    recall  f1-score   support\n",
      "\n",
      "           0       0.95      0.79      0.86      1043\n",
      "           1       0.73      0.93      0.81       639\n",
      "\n",
      "    accuracy                           0.84      1682\n",
      "   macro avg       0.84      0.86      0.84      1682\n",
      "weighted avg       0.86      0.84      0.84      1682\n",
      "\n",
      "------------------------------------------------------------\n"
     ]
    },
    {
     "name": "stderr",
     "output_type": "stream",
     "text": [
      "/anaconda3/envs/insight/lib/python3.7/site-packages/sklearn/linear_model/logistic.py:432: FutureWarning: Default solver will be changed to 'lbfgs' in 0.22. Specify a solver to silence this warning.\n",
      "  FutureWarning)\n",
      "/anaconda3/envs/insight/lib/python3.7/site-packages/sklearn/utils/validation.py:724: DataConversionWarning: A column-vector y was passed when a 1d array was expected. Please change the shape of y to (n_samples, ), for example using ravel().\n",
      "  y = column_or_1d(y, warn=True)\n"
     ]
    }
   ],
   "source": [
    "logreg = LogisticRegression()\n",
    "logreg.fit(X_train, y_train)\n",
    "\n",
    "y_pred = logreg.predict(X_test)\n",
    "\n",
    "print('-'*60)\n",
    "print('Accuracy of logistic regression classifier on train set: {:.4f}'.format(logreg.score(X_train, y_train)))\n",
    "print('-'*60)\n",
    "print('Accuracy of logistic regression classifier on test set: {:.4f}'.format(logreg.score(X_test, y_test)))\n",
    "print('-'*60)\n",
    "\n",
    "print(classification_report(y_test, y_pred))\n",
    "print('-'*60)"
   ]
  },
  {
   "cell_type": "code",
   "execution_count": 57,
   "metadata": {},
   "outputs": [
    {
     "name": "stdout",
     "output_type": "stream",
     "text": [
      "[[-0.27538407 -0.4081964   0.54413681  0.18142873  0.49570766 -0.11265862\n",
      "   0.57230361  0.29426988  1.35001294  1.4090359   1.27674913  0.81261992\n",
      "   0.88392489  0.76851984]]\n",
      "[-1.33649385]\n"
     ]
    }
   ],
   "source": [
    "# check the coeffcients\n",
    "print(logreg.coef_)\n",
    "print(logreg.intercept_)"
   ]
  },
  {
   "cell_type": "code",
   "execution_count": 58,
   "metadata": {},
   "outputs": [],
   "source": [
    "# print results\n",
    "\n",
    "cm = confusion_matrix(y_test, y_pred)\n",
    "cm_sum = np.sum(cm, axis =1, keepdims = True)\n",
    "cm_perc = cm/cm_sum.astype(float)\n",
    "array = cm_perc\n",
    "cm_df = pd.DataFrame(array, index = [i for i in ['Recommend','Not_Recommend']], \n",
    "                             columns = [i for i in ['Recommend','Not_Recommend']])\n"
   ]
  },
  {
   "cell_type": "code",
   "execution_count": 59,
   "metadata": {},
   "outputs": [
    {
     "name": "stdout",
     "output_type": "stream",
     "text": [
      "               Recommend  Not_Recommend\n",
      "Recommend           0.79           0.21\n",
      "Not_Recommend       0.07           0.93\n"
     ]
    }
   ],
   "source": [
    "print(cm_df.round(2))"
   ]
  },
  {
   "cell_type": "code",
   "execution_count": 60,
   "metadata": {},
   "outputs": [
    {
     "data": {
      "image/png": "[encoded data removed]",
      "text/plain": [
       "<Figure size 360x360 with 2 Axes>"
      ]
     },
     "metadata": {},
     "output_type": "display_data"
    }
   ],
   "source": [
    "# visualize the model\n",
    "\n",
    "plt.figure(figsize=(5,5))\n",
    "plt.title('Confusion Matrix of Logistic Regression', fontsize = 14)\n",
    "sns.heatmap(cm_df, annot = True, annot_kws={'size': 15}, cmap=\"YlGnBu\")\n",
    "plt.xlabel('Actual', fontsize = 14)\n",
    "plt.ylabel('Predicted',fontsize = 14)\n",
    "plt.ylim(2,0);\n",
    "\n",
    "# prone to false positive "
   ]
  },
  {
   "cell_type": "code",
   "execution_count": 61,
   "metadata": {},
   "outputs": [
    {
     "data": {
      "image/png": "[encoded data removed]",
      "text/plain": [
       "<Figure size 432x288 with 1 Axes>"
      ]
     },
     "metadata": {},
     "output_type": "display_data"
    },
    {
     "name": "stdout",
     "output_type": "stream",
     "text": [
      "--------------------------------------------------\n",
      "The area under the curve is: 0.903\n",
      "--------------------------------------------------\n"
     ]
    }
   ],
   "source": [
    "# ROC Curve:\n",
    "plt.rc(\"font\", size=20)\n",
    "sns.set(style=\"white\")\n",
    "sns.set(style=\"whitegrid\", color_codes=True)\n",
    "\n",
    "logit_roc_auc = roc_auc_score(y_test, logreg.predict_proba(X_test)[:,1])\n",
    "fpr, tpr, thresholds = roc_curve(y_test, logreg.predict_proba(X_test)[:,1])\n",
    "plt.figure()\n",
    "plt.plot(fpr, tpr, label='Logistic Regression (area = %0.2f)' % logit_roc_auc)\n",
    "plt.plot([0, 1], [0, 1],'r--')\n",
    "plt.xlim([0.0, 1.0])\n",
    "plt.ylim([0.0, 1.05])\n",
    "plt.xlabel('False Positive Rate')\n",
    "plt.ylabel('True Positive Rate')\n",
    "plt.title('Receiver operating characteristic')\n",
    "plt.legend(loc=\"lower right\")\n",
    "plt.show()\n",
    "print('-'*50)\n",
    "print(\"The area under the curve is:\", roc_auc_score(y_test,logreg.predict_proba(X_test)[:,1]).round(3))\n",
    "print('-'*50)"
   ]
  },
  {
   "cell_type": "markdown",
   "metadata": {},
   "source": [
    "## 2.1.4 Adjust the classification threshhold"
   ]
  },
  {
   "cell_type": "code",
   "execution_count": 62,
   "metadata": {},
   "outputs": [
    {
     "data": {
      "text/plain": [
       "array([1, 1, 1, 0, 0, 1, 0, 1, 0, 1])"
      ]
     },
     "execution_count": 62,
     "metadata": {},
     "output_type": "execute_result"
    }
   ],
   "source": [
    "# check the first 10 predicted responses \n",
    "\n",
    "y_predict = logreg.predict(X_test)\n",
    "y_predict[0:10]"
   ]
  },
  {
   "cell_type": "code",
   "execution_count": 63,
   "metadata": {},
   "outputs": [
    {
     "data": {
      "text/plain": [
       "array([0.71142455, 0.79461524, 0.75174974, 0.02455112, 0.03599737,\n",
       "       0.80052146, 0.05262697, 0.84970259, 0.02533039, 0.79461524])"
      ]
     },
     "execution_count": 63,
     "metadata": {},
     "output_type": "execute_result"
    }
   ],
   "source": [
    "y_predict_prob = logreg.predict_proba(X_test)[:,1]\n",
    "y_predict_prob[0:10]"
   ]
  },
  {
   "cell_type": "raw",
   "metadata": {},
   "source": [
    "# column 0: predicted probability that each observation is a member of class 0\n",
    "# column 1: predicted probability that each observation is a member of class 1\n",
    "\n",
    "# importance of predicted probabilities: 1) rank observations by probabilities of recommendations, 2) prioritize these products\n",
    "\n",
    "# predict_proba process:\n",
    "- predict probabilities\n",
    "- choosse the class with the higher probability\n",
    "\n",
    "# classification threshold\n",
    "- class 0 predicted if probability is < 0.5\n",
    "- class 1 predicted if probability is > 0.5"
   ]
  },
  {
   "cell_type": "code",
   "execution_count": 64,
   "metadata": {},
   "outputs": [
    {
     "data": {
      "text/plain": [
       "Text(0, 0.5, 'Frequency')"
      ]
     },
     "execution_count": 64,
     "metadata": {},
     "output_type": "execute_result"
    },
    {
     "data": {
      "image/png": "[encoded data removed]",
      "text/plain": [
       "<Figure size 432x288 with 1 Axes>"
      ]
     },
     "metadata": {},
     "output_type": "display_data"
    }
   ],
   "source": [
    "plt.hist(y_predict_prob, bins=8)\n",
    "# x-axis limit from 0 to 1\n",
    "plt.xlim(0,1)\n",
    "plt.title('Histogram of predicted probabilities')\n",
    "plt.xlabel('Predicted probability of recommendation(Y)')\n",
    "plt.ylabel('Frequency')\n",
    "\n",
    "# need to increase the the shrehold"
   ]
  },
  {
   "cell_type": "code",
   "execution_count": 65,
   "metadata": {},
   "outputs": [
    {
     "name": "stdout",
     "output_type": "stream",
     "text": [
      "[[909 134]\n",
      " [215 424]]\n"
     ]
    }
   ],
   "source": [
    "THRESHOLD = 0.7\n",
    "y_pred_class = np.where(y_predict_prob > THRESHOLD, 1, 0)\n",
    "print(metrics.confusion_matrix(y_test, y_pred_class))"
   ]
  },
  {
   "cell_type": "code",
   "execution_count": 66,
   "metadata": {},
   "outputs": [],
   "source": [
    "cm = confusion_matrix(y_test, y_pred_class)\n",
    "cm_sum = np.sum(cm, axis =1, keepdims = True)\n",
    "cm_perc = cm/cm_sum.astype(float)\n",
    "array = cm_perc\n",
    "cm_df = pd.DataFrame(array, index = [i for i in ['Recommend','Not_Recommend']], \n",
    "                             columns = [i for i in ['Recommend','Not_Recommend']])"
   ]
  },
  {
   "cell_type": "code",
   "execution_count": 67,
   "metadata": {},
   "outputs": [
    {
     "data": {
      "image/png": "[encoded data removed]",
      "text/plain": [
       "<Figure size 360x360 with 2 Axes>"
      ]
     },
     "metadata": {},
     "output_type": "display_data"
    }
   ],
   "source": [
    "plt.figure(figsize=(5,5))\n",
    "plt.title('Confusion Matrix of Logistic Regression', fontsize = 14)\n",
    "sns.heatmap(cm_df, annot = True, annot_kws={'size': 15}, cmap=\"YlGnBu\")\n",
    "plt.xlabel('Actual', fontsize = 14)\n",
    "plt.ylabel('Predicted',fontsize = 14)\n",
    "plt.ylim(2,0);"
   ]
  },
  {
   "cell_type": "code",
   "execution_count": 68,
   "metadata": {},
   "outputs": [
    {
     "data": {
      "text/html": [
       "<div>\n",
       "<style scoped>\n",
       "    .dataframe tbody tr th:only-of-type {\n",
       "        vertical-align: middle;\n",
       "    }\n",
       "\n",
       "    .dataframe tbody tr th {\n",
       "        vertical-align: top;\n",
       "    }\n",
       "\n",
       "    .dataframe thead th {\n",
       "        text-align: right;\n",
       "    }\n",
       "</style>\n",
       "<table border=\"1\" class=\"dataframe\">\n",
       "  <thead>\n",
       "    <tr style=\"text-align: right;\">\n",
       "      <th></th>\n",
       "      <th>0</th>\n",
       "    </tr>\n",
       "  </thead>\n",
       "  <tbody>\n",
       "    <tr>\n",
       "      <td>accuracy</td>\n",
       "      <td>0.792509</td>\n",
       "    </tr>\n",
       "    <tr>\n",
       "      <td>recall</td>\n",
       "      <td>0.663537</td>\n",
       "    </tr>\n",
       "    <tr>\n",
       "      <td>precision</td>\n",
       "      <td>0.759857</td>\n",
       "    </tr>\n",
       "    <tr>\n",
       "      <td>roc_auc_score</td>\n",
       "      <td>0.767531</td>\n",
       "    </tr>\n",
       "  </tbody>\n",
       "</table>\n",
       "</div>"
      ],
      "text/plain": [
       "                      0\n",
       "accuracy       0.792509\n",
       "recall         0.663537\n",
       "precision      0.759857\n",
       "roc_auc_score  0.767531"
      ]
     },
     "execution_count": 68,
     "metadata": {},
     "output_type": "execute_result"
    }
   ],
   "source": [
    "pd.DataFrame(data=[accuracy_score(y_test, y_pred_class), recall_score(y_test, y_pred_class),\n",
    "                   precision_score(y_test, y_pred_class), roc_auc_score(y_test, y_pred_class)], \n",
    "             index=[\"accuracy\", \"recall\", \"precision\", \"roc_auc_score\"])"
   ]
  },
  {
   "cell_type": "code",
   "execution_count": null,
   "metadata": {},
   "outputs": [],
   "source": []
  },
  {
   "cell_type": "code",
   "execution_count": null,
   "metadata": {},
   "outputs": [],
   "source": []
  },
  {
   "cell_type": "code",
   "execution_count": null,
   "metadata": {},
   "outputs": [],
   "source": []
  }
 ],
 "metadata": {
  "kernelspec": {
   "display_name": "Pyhton (insight)",
   "language": "python",
   "name": "insight"
  },
  "language_info": {
   "codemirror_mode": {
    "name": "ipython",
    "version": 3
   },
   "file_extension": ".py",
   "mimetype": "text/x-python",
   "name": "python",
   "nbconvert_exporter": "python",
   "pygments_lexer": "ipython3",
   "version": "3.7.4"
  }
 },
 "nbformat": 4,
 "nbformat_minor": 2
}
